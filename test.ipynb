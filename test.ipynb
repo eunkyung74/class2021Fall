{
  "nbformat": 4,
  "nbformat_minor": 0,
  "metadata": {
    "colab": {
      "name": "test.ipynb",
      "provenance": [],
      "collapsed_sections": [],
      "authorship_tag": "ABX9TyOAWujok1VscjFba6XYVg/P",
      "include_colab_link": true
    },
    "kernelspec": {
      "name": "python3",
      "display_name": "Python 3"
    },
    "language_info": {
      "name": "python"
    }
  },
  "cells": [
    {
      "cell_type": "markdown",
      "metadata": {
        "id": "view-in-github",
        "colab_type": "text"
      },
      "source": [
        "<a href=\"https://colab.research.google.com/github/eunkyung74/class2021Fall/blob/main/test.ipynb\" target=\"_parent\"><img src=\"https://colab.research.google.com/assets/colab-badge.svg\" alt=\"Open In Colab\"/></a>"
      ]
    },
    {
      "cell_type": "code",
      "metadata": {
        "colab": {
          "base_uri": "https://localhost:8080/"
        },
        "id": "Jghft-w97mNV",
        "outputId": "7e8d0073-fa25-43df-abd0-10fdeeffb3e8"
      },
      "source": [
        "print(\"Jupyter notebook\")"
      ],
      "execution_count": 3,
      "outputs": [
        {
          "output_type": "stream",
          "name": "stdout",
          "text": [
            "Jupyter notebook\n"
          ]
        }
      ]
    },
    {
      "cell_type": "markdown",
      "metadata": {
        "id": "jQKTYOBp8b-u"
      },
      "source": [
        "*처음 해보는 코딩* -> mark **up** "
      ]
    },
    {
      "cell_type": "markdown",
      "metadata": {
        "id": "sD2shMC6-CKx"
      },
      "source": [
        "변수(variables) , 제어문(syntax), 함수(funtion)"
      ]
    },
    {
      "cell_type": "code",
      "metadata": {
        "id": "qVNe7g0_90gK"
      },
      "source": [
        "# 변수 a에 1을 할당\n",
        "a = 1"
      ],
      "execution_count": 5,
      "outputs": []
    },
    {
      "cell_type": "code",
      "metadata": {
        "id": "4Tg7mD-0986o"
      },
      "source": [
        "# 문자열 표현시 따옴표 사용\n",
        "b = 'hello'"
      ],
      "execution_count": 6,
      "outputs": []
    },
    {
      "cell_type": "code",
      "metadata": {
        "colab": {
          "base_uri": "https://localhost:8080/"
        },
        "id": "NUElv-69-ipy",
        "outputId": "75e0cf64-2891-4990-d556-dae66a16e52a"
      },
      "source": [
        "# print() 함수: 화면 출력 결과 확인\n",
        "print(a)\n",
        "print(b)"
      ],
      "execution_count": 7,
      "outputs": [
        {
          "output_type": "stream",
          "name": "stdout",
          "text": [
            "1\n",
            "hello\n"
          ]
        }
      ]
    },
    {
      "cell_type": "code",
      "metadata": {
        "colab": {
          "base_uri": "https://localhost:8080/"
        },
        "id": "zBo8mTvF-u0t",
        "outputId": "57a305b3-6dc1-4b3f-f433-2d2d9d1f2b10"
      },
      "source": [
        "# type() 함수: 변수의 자료형 확인\n",
        "type(a)"
      ],
      "execution_count": 11,
      "outputs": [
        {
          "output_type": "execute_result",
          "data": {
            "text/plain": [
              "int"
            ]
          },
          "metadata": {},
          "execution_count": 11
        }
      ]
    },
    {
      "cell_type": "code",
      "metadata": {
        "colab": {
          "base_uri": "https://localhost:8080/"
        },
        "id": "ttjwo_0V_Qoi",
        "outputId": "c0b1814f-585b-4756-bd2a-5228edd4ff1b"
      },
      "source": [
        "print(type(a))"
      ],
      "execution_count": 12,
      "outputs": [
        {
          "output_type": "stream",
          "name": "stdout",
          "text": [
            "<class 'int'>\n"
          ]
        }
      ]
    },
    {
      "cell_type": "code",
      "metadata": {
        "colab": {
          "base_uri": "https://localhost:8080/"
        },
        "id": "Z4NkbaSK_ZJR",
        "outputId": "2a5a95e6-7966-45f7-e1a1-aff9b0b3ade6"
      },
      "source": [
        "#숫자: int(정수), float(실수)\n",
        "c = 1.1\n",
        "print(type(c))"
      ],
      "execution_count": 13,
      "outputs": [
        {
          "output_type": "stream",
          "name": "stdout",
          "text": [
            "<class 'float'>\n"
          ]
        }
      ]
    },
    {
      "cell_type": "code",
      "metadata": {
        "colab": {
          "base_uri": "https://localhost:8080/"
        },
        "id": "R1aKxoGE_oEy",
        "outputId": "e4ac884e-7491-4962-8912-82c451a5f662"
      },
      "source": [
        "#문자열: str\n",
        "print(type(b))"
      ],
      "execution_count": 14,
      "outputs": [
        {
          "output_type": "stream",
          "name": "stdout",
          "text": [
            "<class 'str'>\n"
          ]
        }
      ]
    },
    {
      "cell_type": "code",
      "metadata": {
        "colab": {
          "base_uri": "https://localhost:8080/"
        },
        "id": "AqPVvYk7AFEJ",
        "outputId": "d61ea4c3-bd2a-4d90-9a17-61a06a277cd8"
      },
      "source": [
        "#리스트(list): [a, b, c ....] -> 자료의 형태는 중요하지X\n",
        "d = [a, b, c]\n",
        "print(type(d))"
      ],
      "execution_count": 15,
      "outputs": [
        {
          "output_type": "stream",
          "name": "stdout",
          "text": [
            "<class 'list'>\n"
          ]
        }
      ]
    }
  ]
}