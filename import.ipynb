{
  "nbformat": 4,
  "nbformat_minor": 0,
  "metadata": {
    "colab": {
      "name": "import.ipynb",
      "provenance": [],
      "collapsed_sections": [],
      "include_colab_link": true
    },
    "kernelspec": {
      "name": "python3",
      "display_name": "Python 3"
    },
    "language_info": {
      "name": "python"
    }
  },
  "cells": [
    {
      "cell_type": "markdown",
      "metadata": {
        "id": "view-in-github",
        "colab_type": "text"
      },
      "source": [
        "<a href=\"https://colab.research.google.com/github/eunkyung74/class2021Fall/blob/main/import.ipynb\" target=\"_parent\"><img src=\"https://colab.research.google.com/assets/colab-badge.svg\" alt=\"Open In Colab\"/></a>"
      ]
    },
    {
      "cell_type": "markdown",
      "metadata": {
        "id": "Lz2P88cPFw06"
      },
      "source": [
        "import: 다른 사용자가 만든 function들의 package를 사용하는 방법"
      ]
    },
    {
      "cell_type": "code",
      "metadata": {
        "id": "JXicrkYOzPRo"
      },
      "source": [
        "#numpy package - random folder - randn function\n",
        "#numpy는 숫자를 다루는 대표적인 package\n",
        "#numpy as np는 numpy를 약어(np)로 사용하겠다는 의미\n",
        "#randn(숫자) 함수는 입력값만큼의 randon numbers을 만들어줌\n",
        "\n",
        "import numpy as np\n",
        "n = np.random.randn(100000)"
      ],
      "execution_count": 15,
      "outputs": []
    },
    {
      "cell_type": "code",
      "metadata": {
        "id": "oKT4vn4MwyLA",
        "colab": {
          "base_uri": "https://localhost:8080/",
          "height": 920
        },
        "outputId": "cdd7fee8-0cd8-47ab-f4d3-19061500ba2e"
      },
      "source": [
        "#matplotlip package - pyplot folder - hist function\n",
        "#matplotlip은 데이터 시각화를 위한 package\n",
        "#hist(데이터) 함수는 histogram(x축: 숫자 y축: 빈도) 출력\n",
        "#데이터의 갯수가 많아질수록, 정규분포로 나타나는 특성\n",
        "#bins로 간격을 세밀하게 나눌 수 있음\n",
        "\n",
        "import matplotlib\n",
        "matplotlib.pyplot.hist(n, bins = 100)"
      ],
      "execution_count": 16,
      "outputs": [
        {
          "output_type": "execute_result",
          "data": {
            "text/plain": [
              "(array([1.000e+00, 1.000e+00, 1.000e+00, 1.000e+00, 3.000e+00, 3.000e+00,\n",
              "        1.000e+00, 4.000e+00, 5.000e+00, 6.000e+00, 1.500e+01, 1.300e+01,\n",
              "        2.400e+01, 2.800e+01, 3.800e+01, 5.200e+01, 7.400e+01, 6.500e+01,\n",
              "        9.600e+01, 1.130e+02, 1.430e+02, 1.780e+02, 2.280e+02, 2.640e+02,\n",
              "        3.600e+02, 3.940e+02, 5.070e+02, 5.930e+02, 6.460e+02, 7.980e+02,\n",
              "        9.210e+02, 1.049e+03, 1.151e+03, 1.299e+03, 1.510e+03, 1.708e+03,\n",
              "        1.855e+03, 2.072e+03, 2.215e+03, 2.399e+03, 2.566e+03, 2.663e+03,\n",
              "        2.778e+03, 2.928e+03, 3.055e+03, 3.285e+03, 3.361e+03, 3.373e+03,\n",
              "        3.419e+03, 3.373e+03, 3.461e+03, 3.480e+03, 3.383e+03, 3.182e+03,\n",
              "        3.120e+03, 3.064e+03, 2.900e+03, 2.836e+03, 2.527e+03, 2.341e+03,\n",
              "        2.158e+03, 2.037e+03, 1.784e+03, 1.637e+03, 1.484e+03, 1.303e+03,\n",
              "        1.142e+03, 1.024e+03, 8.670e+02, 7.800e+02, 6.510e+02, 5.950e+02,\n",
              "        4.760e+02, 3.960e+02, 3.470e+02, 2.660e+02, 2.190e+02, 1.940e+02,\n",
              "        1.660e+02, 1.170e+02, 1.070e+02, 8.500e+01, 4.800e+01, 4.700e+01,\n",
              "        3.500e+01, 2.600e+01, 2.000e+01, 2.100e+01, 9.000e+00, 8.000e+00,\n",
              "        5.000e+00, 8.000e+00, 2.000e+00, 2.000e+00, 3.000e+00, 1.000e+00,\n",
              "        0.000e+00, 0.000e+00, 0.000e+00, 1.000e+00]),\n",
              " array([-4.28543499, -4.19874029, -4.11204559, -4.02535088, -3.93865618,\n",
              "        -3.85196148, -3.76526678, -3.67857207, -3.59187737, -3.50518267,\n",
              "        -3.41848797, -3.33179326, -3.24509856, -3.15840386, -3.07170916,\n",
              "        -2.98501445, -2.89831975, -2.81162505, -2.72493035, -2.63823565,\n",
              "        -2.55154094, -2.46484624, -2.37815154, -2.29145684, -2.20476213,\n",
              "        -2.11806743, -2.03137273, -1.94467803, -1.85798332, -1.77128862,\n",
              "        -1.68459392, -1.59789922, -1.51120452, -1.42450981, -1.33781511,\n",
              "        -1.25112041, -1.16442571, -1.077731  , -0.9910363 , -0.9043416 ,\n",
              "        -0.8176469 , -0.73095219, -0.64425749, -0.55756279, -0.47086809,\n",
              "        -0.38417338, -0.29747868, -0.21078398, -0.12408928, -0.03739458,\n",
              "         0.04930013,  0.13599483,  0.22268953,  0.30938423,  0.39607894,\n",
              "         0.48277364,  0.56946834,  0.65616304,  0.74285775,  0.82955245,\n",
              "         0.91624715,  1.00294185,  1.08963655,  1.17633126,  1.26302596,\n",
              "         1.34972066,  1.43641536,  1.52311007,  1.60980477,  1.69649947,\n",
              "         1.78319417,  1.86988888,  1.95658358,  2.04327828,  2.12997298,\n",
              "         2.21666769,  2.30336239,  2.39005709,  2.47675179,  2.56344649,\n",
              "         2.6501412 ,  2.7368359 ,  2.8235306 ,  2.9102253 ,  2.99692001,\n",
              "         3.08361471,  3.17030941,  3.25700411,  3.34369882,  3.43039352,\n",
              "         3.51708822,  3.60378292,  3.69047762,  3.77717233,  3.86386703,\n",
              "         3.95056173,  4.03725643,  4.12395114,  4.21064584,  4.29734054,\n",
              "         4.38403524]),\n",
              " <a list of 100 Patch objects>)"
            ]
          },
          "metadata": {},
          "execution_count": 16
        },
        {
          "output_type": "display_data",
          "data": {
            "image/png": "[encoded data removed]",
            "text/plain": [
              "<Figure size 432x288 with 1 Axes>"
            ]
          },
          "metadata": {
            "needs_background": "light"
          }
        }
      ]
    },
    {
      "cell_type": "code",
      "metadata": {
        "colab": {
          "base_uri": "https://localhost:8080/",
          "height": 366
        },
        "id": "zQJ4LnbA-Hvz",
        "outputId": "7f59601a-3de6-4459-c8d6-a983ead651da"
      },
      "source": [
        "import matplotlib.pyplot\n",
        "matplotlib.pyplot.hist(n)"
      ],
      "execution_count": 17,
      "outputs": [
        {
          "output_type": "execute_result",
          "data": {
            "text/plain": [
              "(array([2.6000e+01, 5.1800e+02, 4.1110e+03, 1.6179e+04, 3.0801e+04,\n",
              "        3.0294e+04, 1.4216e+04, 3.4270e+03, 4.0600e+02, 2.2000e+01]),\n",
              " array([-4.28543499, -3.41848797, -2.55154094, -1.68459392, -0.8176469 ,\n",
              "         0.04930013,  0.91624715,  1.78319417,  2.6501412 ,  3.51708822,\n",
              "         4.38403524]),\n",
              " <a list of 10 Patch objects>)"
            ]
          },
          "metadata": {},
          "execution_count": 17
        },
        {
          "output_type": "display_data",
          "data": {
            "image/png": "[encoded data removed]",
            "text/plain": [
              "<Figure size 432x288 with 1 Axes>"
            ]
          },
          "metadata": {
            "needs_background": "light"
          }
        }
      ]
    },
    {
      "cell_type": "code",
      "metadata": {
        "id": "AWU6awi53c07",
        "colab": {
          "base_uri": "https://localhost:8080/",
          "height": 366
        },
        "outputId": "8b167f89-8621-4b70-efa2-4c8403a005f2"
      },
      "source": [
        "#간편하게 불러오는 방법 (1): import A as B -> A를 B로 불러와라\n",
        "import matplotlib.pyplot as plt\n",
        "plt.hist(n)"
      ],
      "execution_count": 18,
      "outputs": [
        {
          "output_type": "execute_result",
          "data": {
            "text/plain": [
              "(array([2.6000e+01, 5.1800e+02, 4.1110e+03, 1.6179e+04, 3.0801e+04,\n",
              "        3.0294e+04, 1.4216e+04, 3.4270e+03, 4.0600e+02, 2.2000e+01]),\n",
              " array([-4.28543499, -3.41848797, -2.55154094, -1.68459392, -0.8176469 ,\n",
              "         0.04930013,  0.91624715,  1.78319417,  2.6501412 ,  3.51708822,\n",
              "         4.38403524]),\n",
              " <a list of 10 Patch objects>)"
            ]
          },
          "metadata": {},
          "execution_count": 18
        },
        {
          "output_type": "display_data",
          "data": {
            "image/png": "[encoded data removed]",
            "text/plain": [
              "<Figure size 432x288 with 1 Axes>"
            ]
          },
          "metadata": {
            "needs_background": "light"
          }
        }
      ]
    },
    {
      "cell_type": "code",
      "metadata": {
        "colab": {
          "base_uri": "https://localhost:8080/",
          "height": 366
        },
        "id": "moIjn3Kv-Hqy",
        "outputId": "954896ba-c379-4245-d26d-6e77d9ae1c9e"
      },
      "source": [
        "#간편하게 불러오는 방법 (2): from package import folder\n",
        "from matplotlib import pyplot\n",
        "pyplot.hist(n)"
      ],
      "execution_count": 19,
      "outputs": [
        {
          "output_type": "execute_result",
          "data": {
            "text/plain": [
              "(array([2.6000e+01, 5.1800e+02, 4.1110e+03, 1.6179e+04, 3.0801e+04,\n",
              "        3.0294e+04, 1.4216e+04, 3.4270e+03, 4.0600e+02, 2.2000e+01]),\n",
              " array([-4.28543499, -3.41848797, -2.55154094, -1.68459392, -0.8176469 ,\n",
              "         0.04930013,  0.91624715,  1.78319417,  2.6501412 ,  3.51708822,\n",
              "         4.38403524]),\n",
              " <a list of 10 Patch objects>)"
            ]
          },
          "metadata": {},
          "execution_count": 19
        },
        {
          "output_type": "display_data",
          "data": {
            "image/png": "[encoded data removed]",
            "text/plain": [
              "<Figure size 432x288 with 1 Axes>"
            ]
          },
          "metadata": {
            "needs_background": "light"
          }
        }
      ]
    },
    {
      "cell_type": "code",
      "metadata": {
        "colab": {
          "base_uri": "https://localhost:8080/",
          "height": 366
        },
        "id": "ORo259i7_Uqi",
        "outputId": "ef0f6ff2-d23e-4ac7-a299-bdcb0b5966a0"
      },
      "source": [
        "#간편하게 불러오는 방법 (3): from package.folder import function\n",
        "from matplotlib.pyplot import hist\n",
        "hist(n)"
      ],
      "execution_count": 20,
      "outputs": [
        {
          "output_type": "execute_result",
          "data": {
            "text/plain": [
              "(array([2.6000e+01, 5.1800e+02, 4.1110e+03, 1.6179e+04, 3.0801e+04,\n",
              "        3.0294e+04, 1.4216e+04, 3.4270e+03, 4.0600e+02, 2.2000e+01]),\n",
              " array([-4.28543499, -3.41848797, -2.55154094, -1.68459392, -0.8176469 ,\n",
              "         0.04930013,  0.91624715,  1.78319417,  2.6501412 ,  3.51708822,\n",
              "         4.38403524]),\n",
              " <a list of 10 Patch objects>)"
            ]
          },
          "metadata": {},
          "execution_count": 20
        },
        {
          "output_type": "display_data",
          "data": {
            "image/png": "[encoded data removed]",
            "text/plain": [
              "<Figure size 432x288 with 1 Axes>"
            ]
          },
          "metadata": {
            "needs_background": "light"
          }
        }
      ]
    }
  ]
}